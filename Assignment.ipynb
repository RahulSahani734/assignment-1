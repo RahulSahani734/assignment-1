{
 "cells": [
  {
   "cell_type": "markdown",
   "id": "d6ffea3f-0e75-4794-8fd0-42ba6b532d1e",
   "metadata": {},
   "source": [
    "Answer = 1"
   ]
  },
  {
   "cell_type": "code",
   "execution_count": null,
   "id": "d1b10001-6c9e-4d82-bab9-610a3cd4ff9e",
   "metadata": {},
   "outputs": [],
   "source": [
    "Def keyword is used to create a function ."
   ]
  },
  {
   "cell_type": "code",
   "execution_count": 2,
   "id": "db381a62-6ba8-49a9-9775-ac443bad7db5",
   "metadata": {},
   "outputs": [
    {
     "name": "stdout",
     "output_type": "stream",
     "text": [
      "1 is an odd no.\n",
      "3 is an odd no.\n",
      "5 is an odd no.\n",
      "7 is an odd no.\n",
      "9 is an odd no.\n",
      "11 is an odd no.\n",
      "13 is an odd no.\n",
      "15 is an odd no.\n",
      "17 is an odd no.\n",
      "19 is an odd no.\n",
      "21 is an odd no.\n",
      "23 is an odd no.\n"
     ]
    }
   ],
   "source": [
    "for i in range(25):\n",
    "    if i%2 != 0:\n",
    "        print(i,\"is an odd no.\")"
   ]
  },
  {
   "cell_type": "code",
   "execution_count": null,
   "id": "0e92b36b-d6ba-4e85-8865-0b25dadd30f4",
   "metadata": {},
   "outputs": [],
   "source": []
  },
  {
   "cell_type": "markdown",
   "id": "bdfa1ffb-283e-48b8-9653-15ad31894611",
   "metadata": {},
   "source": [
    "Answer = 2"
   ]
  },
  {
   "cell_type": "code",
   "execution_count": null,
   "id": "75810527-88fb-43cf-b114-07839c459138",
   "metadata": {},
   "outputs": [],
   "source": [
    "*args and *kwargs are special Python keywords that are used to pass the variable\n",
    "length of arguments to a function"
   ]
  },
  {
   "cell_type": "code",
   "execution_count": null,
   "id": "d2a3fc55-14c4-4d7e-8627-0ba404e8eab1",
   "metadata": {},
   "outputs": [],
   "source": [
    "*args is use to pass multiple inputs "
   ]
  },
  {
   "cell_type": "code",
   "execution_count": 5,
   "id": "f45f5a8a-8339-4084-ac88-368b94be4a7c",
   "metadata": {},
   "outputs": [],
   "source": [
    "def multi_input(*args):\n",
    "    print(args)"
   ]
  },
  {
   "cell_type": "code",
   "execution_count": 6,
   "id": "85983e7e-4be6-40a1-9163-0511ca6f5c4a",
   "metadata": {},
   "outputs": [
    {
     "name": "stdout",
     "output_type": "stream",
     "text": [
      "(1, 2, 3, 4)\n"
     ]
    }
   ],
   "source": [
    "multi_input(1,2,3,4)"
   ]
  },
  {
   "cell_type": "code",
   "execution_count": null,
   "id": "163b1bde-50cc-4edc-9532-496638a81a52",
   "metadata": {},
   "outputs": [],
   "source": [
    "** kwargs is use to pass multiple inputs in key-value form (dictionary type)"
   ]
  },
  {
   "cell_type": "code",
   "execution_count": 31,
   "id": "b02701d6-1c29-46cb-b1ec-6ee466ddcae2",
   "metadata": {},
   "outputs": [],
   "source": [
    "def multi_input(**kwargs):\n",
    "    return kwargs\n",
    "   "
   ]
  },
  {
   "cell_type": "code",
   "execution_count": 32,
   "id": "5a87f5df-5459-43c2-a5de-5d614870ac0c",
   "metadata": {},
   "outputs": [
    {
     "data": {
      "text/plain": [
       "{'rahul': 'sahani', 'bharat': 'rajpurohit'}"
      ]
     },
     "execution_count": 32,
     "metadata": {},
     "output_type": "execute_result"
    }
   ],
   "source": [
    "multi_input( rahul='sahani',bharat='rajpurohit')"
   ]
  },
  {
   "cell_type": "markdown",
   "id": "75a38be3-e6fa-4fc3-8c89-38a0bc52cca5",
   "metadata": {},
   "source": [
    "Answer = 3"
   ]
  },
  {
   "cell_type": "code",
   "execution_count": null,
   "id": "b4abbcfa-d005-4b75-b0a3-964fc880c03c",
   "metadata": {},
   "outputs": [],
   "source": [
    " In Python, an iterator is an object that enables iteration over a container\n",
    "    or a sequence of elements. It provides a way to access the elements of a \n",
    "    collection one at a time without having to know the underlying structure of\n",
    "    the collection."
   ]
  },
  {
   "cell_type": "code",
   "execution_count": 34,
   "id": "3ddb95fe-6d6a-4f93-a88f-8c5bbd239166",
   "metadata": {},
   "outputs": [
    {
     "name": "stdout",
     "output_type": "stream",
     "text": [
      "2\n",
      "4\n",
      "6\n",
      "8\n",
      "10\n"
     ]
    }
   ],
   "source": [
    "mylist = [2, 4, 6, 8, 10, 12, 14, 16, 18, 20]\n",
    "my_iterator = iter(mylist)\n",
    "\n",
    "for i in range(5):\n",
    "    element = next(my_iterator)\n",
    "    print(element)"
   ]
  },
  {
   "cell_type": "code",
   "execution_count": null,
   "id": "86a726bd-204b-4de9-b83f-d20a8aa59a59",
   "metadata": {},
   "outputs": [],
   "source": []
  },
  {
   "cell_type": "markdown",
   "id": "8f484629-8094-485b-92a0-c4e0d36fe3d8",
   "metadata": {},
   "source": [
    "Answer = 4"
   ]
  },
  {
   "cell_type": "code",
   "execution_count": null,
   "id": "254254a5-b1e5-4f84-9f7f-8a08ed2d000e",
   "metadata": {},
   "outputs": [],
   "source": [
    " In Python, a generator function is a special type of function that generates\n",
    "    a sequence of values using the yield keyword instead of return. When a\n",
    "generator function is called, it returns an iterator that can be iterated over\n",
    "to retrieve the generated values one at a time. Unlike regular functions, which\n",
    "return a value and then terminate, generator functions can yield multiple \n",
    "values across multiple invocations, maintaining their internal state between\n",
    "each yield."
   ]
  },
  {
   "cell_type": "code",
   "execution_count": 5,
   "id": "13cda59c-407f-4162-b3b0-289c8f686b26",
   "metadata": {},
   "outputs": [],
   "source": [
    "def even_numbers():\n",
    "    num = 0\n",
    "    while True:\n",
    "        yield num\n",
    "        num += 2"
   ]
  },
  {
   "cell_type": "code",
   "execution_count": null,
   "id": "dc1f151c-8019-47bc-a4fb-6c11983d6fff",
   "metadata": {},
   "outputs": [],
   "source": []
  },
  {
   "cell_type": "markdown",
   "id": "d0e09f47-5b6d-42d5-bed1-8285cd604218",
   "metadata": {},
   "source": [
    "Answer = 5"
   ]
  },
  {
   "cell_type": "code",
   "execution_count": 2,
   "id": "1224cd6e-601f-4d62-bfff-1bdbfcf4c2b0",
   "metadata": {},
   "outputs": [
    {
     "name": "stdout",
     "output_type": "stream",
     "text": [
      "2\n",
      "3\n",
      "5\n",
      "7\n",
      "11\n",
      "13\n",
      "17\n",
      "19\n",
      "23\n",
      "29\n",
      "31\n",
      "37\n",
      "41\n",
      "43\n",
      "47\n",
      "53\n",
      "59\n",
      "61\n",
      "67\n",
      "71\n"
     ]
    }
   ],
   "source": [
    "def prime_generator():\n",
    "    primes = []\n",
    "    num = 2\n",
    "\n",
    "    while True:\n",
    "        is_prime = True\n",
    "\n",
    "        for prime in primes:\n",
    "            if prime * prime > num:\n",
    "                break\n",
    "            if num % prime == 0:\n",
    "                is_prime = False\n",
    "                break\n",
    "\n",
    "        if is_prime:\n",
    "            primes.append(num)\n",
    "            yield num\n",
    "\n",
    "        num += 1\n",
    "\n",
    "# Create a generator object\n",
    "prime_gen = prime_generator()\n",
    "\n",
    "# Print the first 20 prime numbers\n",
    "for _ in range(20):\n",
    "    print(next(prime_gen))"
   ]
  },
  {
   "cell_type": "code",
   "execution_count": null,
   "id": "aff0fae7-c91c-469c-a490-f06e980ecb11",
   "metadata": {},
   "outputs": [],
   "source": []
  },
  {
   "cell_type": "markdown",
   "id": "a62ce8bf-019b-4721-b2bf-79cec1b066c5",
   "metadata": {},
   "source": [
    "Answer = 6 "
   ]
  },
  {
   "cell_type": "code",
   "execution_count": 1,
   "id": "1fbbbdaf-4e4c-4207-a07b-4857724813fc",
   "metadata": {},
   "outputs": [
    {
     "name": "stdout",
     "output_type": "stream",
     "text": [
      "0\n",
      "1\n",
      "1\n",
      "2\n",
      "3\n",
      "5\n",
      "8\n",
      "13\n",
      "21\n",
      "34\n"
     ]
    }
   ],
   "source": [
    "def fibonacci_sequence(n):\n",
    "    fib_sequence = []\n",
    "    a, b = 0, 1\n",
    "\n",
    "    while len(fib_sequence) < n:\n",
    "        fib_sequence.append(a)\n",
    "        a, b = b, a + b\n",
    "\n",
    "    return fib_sequence\n",
    "\n",
    "# Print the first 10 Fibonacci numbers\n",
    "fibonacci_numbers = fibonacci_sequence(10)\n",
    "for num in fibonacci_numbers:\n",
    "    print(num)\n",
    "    "
   ]
  },
  {
   "cell_type": "code",
   "execution_count": null,
   "id": "764887fd-8fc6-474e-b3ce-1fd54eac0631",
   "metadata": {},
   "outputs": [],
   "source": []
  },
  {
   "cell_type": "markdown",
   "id": "3546fc33-8c7e-4001-a53f-2087f0b8be67",
   "metadata": {},
   "source": [
    "Answer = 7\n"
   ]
  },
  {
   "cell_type": "code",
   "execution_count": 11,
   "id": "2a447e1a-7f55-4a15-8f19-81e88c38c48b",
   "metadata": {},
   "outputs": [
    {
     "name": "stdout",
     "output_type": "stream",
     "text": [
      "['p', 'w', 's', 'k', 'i', 'l', 'l', 's']\n"
     ]
    }
   ],
   "source": [
    "star = \"pwskills\"\n",
    "s = list(star)\n",
    "print(s)\n"
   ]
  },
  {
   "cell_type": "code",
   "execution_count": null,
   "id": "f5ea615e-0023-4f19-a6b9-c28bd2342672",
   "metadata": {},
   "outputs": [],
   "source": []
  },
  {
   "cell_type": "markdown",
   "id": "e080cfdc-c001-423f-b4f7-a946e9c19165",
   "metadata": {},
   "source": [
    "Answer = 8"
   ]
  },
  {
   "cell_type": "code",
   "execution_count": 28,
   "id": "574b1a5d-9dce-4653-a383-a66c12abdf87",
   "metadata": {},
   "outputs": [
    {
     "name": "stdin",
     "output_type": "stream",
     "text": [
      "enter any number 464\n"
     ]
    },
    {
     "name": "stdout",
     "output_type": "stream",
     "text": [
      "the given number is palindrome \n"
     ]
    }
   ],
   "source": [
    "num = int(input(\"enter any number\"))\n",
    "rev = 0\n",
    "z = num\n",
    "while (num > 0):\n",
    "    rev = (rev*10)+(num%10)\n",
    "    num = num//10\n",
    "    \n",
    "if(z == rev):\n",
    "    print(\"the given number is palindrome \")\n",
    "else:\n",
    "    print(\"the given number is not palindrome \")    \n",
    "  "
   ]
  },
  {
   "cell_type": "code",
   "execution_count": null,
   "id": "bfadde45-cc03-4845-a941-c71da1d5967c",
   "metadata": {},
   "outputs": [],
   "source": []
  },
  {
   "cell_type": "markdown",
   "id": "522bfde3-43bc-49f4-84da-c5353b6645c7",
   "metadata": {},
   "source": [
    "Answer = 9"
   ]
  },
  {
   "cell_type": "code",
   "execution_count": null,
   "id": "d0c0d375-4727-4951-bd57-30d57756f955",
   "metadata": {},
   "outputs": [],
   "source": [
    "lis = []\n",
    "for i in range(1,100+1):\n",
    "    if(i%2 != 0):\n",
    "        lis.append()\n",
    "        "
   ]
  }
 ],
 "metadata": {
  "kernelspec": {
   "display_name": "Python 3 (ipykernel)",
   "language": "python",
   "name": "python3"
  },
  "language_info": {
   "codemirror_mode": {
    "name": "ipython",
    "version": 3
   },
   "file_extension": ".py",
   "mimetype": "text/x-python",
   "name": "python",
   "nbconvert_exporter": "python",
   "pygments_lexer": "ipython3",
   "version": "3.10.8"
  }
 },
 "nbformat": 4,
 "nbformat_minor": 5
}
